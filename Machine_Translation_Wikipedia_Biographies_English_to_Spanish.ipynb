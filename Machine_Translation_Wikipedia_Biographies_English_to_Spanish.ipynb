{
  "cells": [
    {
      "cell_type": "markdown",
      "metadata": {
        "id": "view-in-github",
        "colab_type": "text"
      },
      "source": [
        "<a href=\"https://colab.research.google.com/github/simplysowj/Data_engg/blob/main/Machine_Translation_Wikipedia_Biographies_English_to_Spanish.ipynb\" target=\"_parent\"><img src=\"https://colab.research.google.com/assets/colab-badge.svg\" alt=\"Open In Colab\"/></a>"
      ]
    },
    {
      "cell_type": "markdown",
      "metadata": {
        "id": "V6m7lcuBjMqo"
      },
      "source": [
        "## Machine Translation - Wikipedia Biographies - English to Spanish\n",
        "\n",
        "Project Objective: To tune a model for translation from English to Spanish\n",
        "\n",
        "Dataset Source: https://www.kaggle.com/datasets/paultimothymooney/translated-wikipedia-biographies?select=Translated+Wikipedia+Biographies+-+EN_ES.csv"
      ]
    },
    {
      "cell_type": "markdown",
      "metadata": {
        "id": "iBWSSFqvjMqq"
      },
      "source": [
        "##### Import Necessary Libraries"
      ]
    },
    {
      "cell_type": "code",
      "execution_count": null,
      "metadata": {
        "colab": {
          "base_uri": "https://localhost:8080/"
        },
        "id": "HIypW0G3jgys",
        "outputId": "f1a2acc4-93fd-4b2a-f86a-0ef0a950de08"
      },
      "outputs": [
        {
          "name": "stdout",
          "output_type": "stream",
          "text": [
            "Collecting sparknlp\n",
            "  Downloading sparknlp-1.0.0-py3-none-any.whl (1.4 kB)\n",
            "Collecting spark-nlp (from sparknlp)\n",
            "  Downloading spark_nlp-5.3.2-py2.py3-none-any.whl (564 kB)\n",
            "\u001b[2K     \u001b[90m━━━━━━━━━━━━━━━━━━━━━━━━━━━━━━━━━━━━━━━━\u001b[0m \u001b[32m565.0/565.0 kB\u001b[0m \u001b[31m5.6 MB/s\u001b[0m eta \u001b[36m0:00:00\u001b[0m\n",
            "\u001b[?25hRequirement already satisfied: numpy in /usr/local/lib/python3.10/dist-packages (from sparknlp) (1.25.2)\n",
            "Installing collected packages: spark-nlp, sparknlp\n",
            "Successfully installed spark-nlp-5.3.2 sparknlp-1.0.0\n"
          ]
        }
      ],
      "source": [
        "!pip install sparknlp\n"
      ]
    },
    {
      "cell_type": "code",
      "execution_count": null,
      "metadata": {
        "colab": {
          "base_uri": "https://localhost:8080/"
        },
        "id": "Hx8KcekzjrV3",
        "outputId": "772fa490-03fd-4717-841d-dfc868e56b55"
      },
      "outputs": [
        {
          "name": "stdout",
          "output_type": "stream",
          "text": [
            "Collecting pyspark\n",
            "  Downloading pyspark-3.5.1.tar.gz (317.0 MB)\n",
            "\u001b[2K     \u001b[90m━━━━━━━━━━━━━━━━━━━━━━━━━━━━━━━━━━━━━━━━\u001b[0m \u001b[32m317.0/317.0 MB\u001b[0m \u001b[31m1.3 MB/s\u001b[0m eta \u001b[36m0:00:00\u001b[0m\n",
            "\u001b[?25h  Preparing metadata (setup.py) ... \u001b[?25l\u001b[?25hdone\n",
            "Requirement already satisfied: py4j==0.10.9.7 in /usr/local/lib/python3.10/dist-packages (from pyspark) (0.10.9.7)\n",
            "Building wheels for collected packages: pyspark\n",
            "  Building wheel for pyspark (setup.py) ... \u001b[?25l\u001b[?25hdone\n",
            "  Created wheel for pyspark: filename=pyspark-3.5.1-py2.py3-none-any.whl size=317488491 sha256=9830adeefe454bd5ad71f519b8816770ad9f6a15fcf897249a2b899ddf7b639b\n",
            "  Stored in directory: /root/.cache/pip/wheels/80/1d/60/2c256ed38dddce2fdd93be545214a63e02fbd8d74fb0b7f3a6\n",
            "Successfully built pyspark\n",
            "Installing collected packages: pyspark\n",
            "Successfully installed pyspark-3.5.1\n"
          ]
        }
      ],
      "source": [
        "!pip install pyspark"
      ]
    },
    {
      "cell_type": "code",
      "execution_count": null,
      "metadata": {
        "id": "7iGFoRXsjMqr"
      },
      "outputs": [],
      "source": [
        "import sparknlp\n",
        "from sparknlp.base import *\n",
        "from sparknlp.annotator import *\n",
        "from pyspark.ml import Pipeline\n",
        "from sklearn.metrics import classification_report, accuracy_score\n",
        "import pyspark.sql.functions as F"
      ]
    },
    {
      "cell_type": "markdown",
      "metadata": {
        "id": "xhUL2r_fjMqr"
      },
      "source": [
        "##### Start Spark NLP Session"
      ]
    },
    {
      "cell_type": "code",
      "execution_count": null,
      "metadata": {
        "id": "mW3XoC2YjMqs"
      },
      "outputs": [],
      "source": [
        "spark = sparknlp.start(gpu=True)"
      ]
    },
    {
      "cell_type": "markdown",
      "metadata": {
        "id": "rE7lOanojMqs"
      },
      "source": [
        "##### Ingest & Start Preprocessing Data"
      ]
    },
    {
      "cell_type": "code",
      "execution_count": null,
      "metadata": {
        "colab": {
          "base_uri": "https://localhost:8080/",
          "height": 72
        },
        "id": "kcBBCGGjjMqs",
        "outputId": "5b22ee15-225f-4c55-c1ba-86b7f7d7455f"
      },
      "outputs": [
        {
          "data": {
            "text/plain": [
              "DataFrame[sourceLanguage,targetLanguage,documentID,stringID,sourceText,translatedText,perceivedGender,entityName,sourceURL: string]"
            ]
          },
          "metadata": {},
          "output_type": "display_data"
        }
      ],
      "source": [
        "# File location and type\n",
        "file_location = \"/content/Translated Wikipedia Biographies - EN_ES.csv\"\n",
        "file_type = \"csv\"\n",
        "\n",
        "# CSV options\n",
        "infer_schema = \"false\"\n",
        "first_row_is_header = \"true\"\n",
        "delimiter = \"\\t\"\n",
        "\n",
        "# The applied options are for CSV files. For other file types, these will be ignored.\n",
        "df = spark.read.format(file_type) \\\n",
        "  .option(\"inferSchema\", infer_schema) \\\n",
        "  .option(\"header\", first_row_is_header) \\\n",
        "  .option(\"sep\", delimiter) \\\n",
        "  .load(file_location)\n",
        "\n",
        "df = df.drop('sourceLanguage', 'targetLanguage', 'documentID', 'stringID', 'entityName', 'sourceURL')\n",
        "\n",
        "display(df)"
      ]
    },
    {
      "cell_type": "markdown",
      "metadata": {
        "id": "zAQxNyKwjMqs"
      },
      "source": [
        "##### Return Number of Samples in Dataset"
      ]
    },
    {
      "cell_type": "code",
      "execution_count": null,
      "metadata": {
        "colab": {
          "base_uri": "https://localhost:8080/"
        },
        "id": "nDDQ5OgtjMqt",
        "outputId": "3803624a-797a-41d4-ca4d-09f20bc54807"
      },
      "outputs": [
        {
          "data": {
            "text/plain": [
              "1471"
            ]
          },
          "execution_count": 11,
          "metadata": {},
          "output_type": "execute_result"
        }
      ],
      "source": [
        "df.count()"
      ]
    },
    {
      "cell_type": "code",
      "execution_count": null,
      "metadata": {
        "colab": {
          "base_uri": "https://localhost:8080/"
        },
        "id": "YJoQWVymlrfd",
        "outputId": "b0693725-4e12-46e5-f6e3-09dec3a2dfa3"
      },
      "outputs": [
        {
          "name": "stdout",
          "output_type": "stream",
          "text": [
            "root\n",
            " |-- sourceLanguage,targetLanguage,documentID,stringID,sourceText,translatedText,perceivedGender,entityName,sourceURL: string (nullable = true)\n",
            "\n"
          ]
        }
      ],
      "source": [
        "df.printSchema()\n"
      ]
    },
    {
      "cell_type": "code",
      "execution_count": null,
      "metadata": {
        "colab": {
          "base_uri": "https://localhost:8080/"
        },
        "id": "nYVjpU99ls6D",
        "outputId": "6a534703-81ef-4094-d594-01485d8cc2cf"
      },
      "outputs": [
        {
          "name": "stdout",
          "output_type": "stream",
          "text": [
            "+----------------------------------------------------------------------------------------------------------------+\n",
            "|sourceLanguage,targetLanguage,documentID,stringID,sourceText,translatedText,perceivedGender,entityName,sourceURL|\n",
            "+----------------------------------------------------------------------------------------------------------------+\n",
            "|                                                                                            en,es,1,1-1,\"Kais...|\n",
            "|                                                                                            en,es,1,1-2,\"Outs...|\n",
            "|                                                                                            en,es,1,1-3,\"Her ...|\n",
            "|                                                                                            en,es,1,1-4,Mäkär...|\n",
            "|                                                                                            en,es,1,1-5,She s...|\n",
            "|                                                                                            en,es,1,1-6,\"In 2...|\n",
            "|                                                                                            en,es,1,1-7,2005 ...|\n",
            "|                                                                                            en,es,1,1-8,\"Her ...|\n",
            "|                                                                                            en,es,1,1-9,\"At t...|\n",
            "|                                                                                            en,es,1,1-10,\"Dur...|\n",
            "|                                                                                            en,es,1,1-11,\"Dur...|\n",
            "|                                                                                            en,es,1,1-12,Her ...|\n",
            "|                                                                                            en,es,2,2-1,Jorie...|\n",
            "|                                                                                            en,es,2,2-2,She w...|\n",
            "|                                                                                            en,es,2,2-3,Ter M...|\n",
            "|                                                                                            en,es,2,2-4,\"She ...|\n",
            "|                                                                                            en,es,2,2-5,\"She ...|\n",
            "|                                                                                            en,es,2,2-6,\"Her ...|\n",
            "|                                                                                            en,es,2,2-7,\"As o...|\n",
            "|                                                                                            en,es,2,2-8,\"She ...|\n",
            "+----------------------------------------------------------------------------------------------------------------+\n",
            "only showing top 20 rows\n",
            "\n"
          ]
        }
      ],
      "source": [
        "df.show()\n"
      ]
    },
    {
      "cell_type": "code",
      "execution_count": null,
      "metadata": {
        "id": "ImoPBwRSmLTS"
      },
      "outputs": [],
      "source": [
        "df = spark.read.option(\"delimiter\", \",\").csv(\"/content/Translated Wikipedia Biographies - EN_ES.csv\", header=True)\n",
        "\n"
      ]
    },
    {
      "cell_type": "code",
      "execution_count": null,
      "metadata": {
        "colab": {
          "base_uri": "https://localhost:8080/"
        },
        "id": "GA0LOsQzlw0F",
        "outputId": "0a22b3f7-7778-441f-f76b-a114f79fa9b0"
      },
      "outputs": [
        {
          "data": {
            "text/plain": [
              "47"
            ]
          },
          "execution_count": 20,
          "metadata": {},
          "output_type": "execute_result"
        }
      ],
      "source": [
        "df.select('perceivedGender').distinct().count()\n"
      ]
    },
    {
      "cell_type": "markdown",
      "metadata": {
        "id": "jR4s73IPjMqt"
      },
      "source": [
        "##### Return Unique Values in 'perceivedGender' Features (& Number of Unique Values)"
      ]
    },
    {
      "cell_type": "code",
      "execution_count": null,
      "metadata": {
        "colab": {
          "base_uri": "https://localhost:8080/"
        },
        "id": "2V7V5stcjMqt",
        "outputId": "ee876872-c414-4e0e-c2eb-1f1c790e75e4"
      },
      "outputs": [
        {
          "name": "stdout",
          "output_type": "stream",
          "text": [
            "47\n",
            "+--------------------+\n",
            "|     perceivedGender|\n",
            "+--------------------+\n",
            "| 17 February 1933...|\n",
            "|\"En 2009, dio a c...|\n",
            "|\"\" which contains...|\n",
            "|              Iraq.\"|\n",
            "| \"\"It Must Have B...|\n",
            "|\"Por entonces, re...|\n",
            "|Esa misma tempora...|\n",
            "| and Security\"\" b...|\n",
            "| las mujeres no t...|\n",
            "|Fue la primera ba...|\n",
            "| o patrimonio cul...|\n",
            "|\"Mientras formaba...|\n",
            "|Sus seguidores de...|\n",
            "|Siguiendo el cons...|\n",
            "|              Female|\n",
            "|\"Su libro Puerta ...|\n",
            "| \"\"Pride\"\" for \"\"...|\n",
            "| discussing yamba...|\n",
            "|               Twins|\n",
            "|           el pueblo|\n",
            "| which would late...|\n",
            "|Qubeka ascendió a...|\n",
            "|Uno de sus casos ...|\n",
            "|En octubre de ese...|\n",
            "| que ha crecido h...|\n",
            "| Paralamas' prope...|\n",
            "|             Neutral|\n",
            "| and \"\"Fading Lik...|\n",
            "|Durante el «Best ...|\n",
            "|           en 2005.\"|\n",
            "|\"Tarin renunció a...|\n",
            "|\"En 2013, complet...|\n",
            "| is a Colombian d...|\n",
            "| published by the...|\n",
            "|\"A pesar de que e...|\n",
            "|             de 2013|\n",
            "|Ese mismo año, fo...|\n",
            "|      held in Kigali|\n",
            "|                Male|\n",
            "|\"En julio de 1980...|\n",
            "|Es la responsable...|\n",
            "|\"Se casó con Wilf...|\n",
            "| que generaba una...|\n",
            "| similar to the w...|\n",
            "| que en árabe sig...|\n",
            "| at an awards cer...|\n",
            "|         de Forbes.\"|\n",
            "+--------------------+\n",
            "\n",
            "None\n"
          ]
        }
      ],
      "source": [
        "unique_label_vals = df.select('perceivedGender').distinct().count()\n",
        "print(unique_label_vals)\n",
        "print(df.select('perceivedGender').distinct().show(unique_label_vals))"
      ]
    },
    {
      "cell_type": "markdown",
      "metadata": {
        "id": "d8nVdmKxjMqt"
      },
      "source": [
        "##### Filter Columns to Remove Incorrect Samples"
      ]
    },
    {
      "cell_type": "code",
      "execution_count": null,
      "metadata": {
        "colab": {
          "base_uri": "https://localhost:8080/"
        },
        "id": "su9-FYK9jMqt",
        "outputId": "3d3e6825-b4f8-449c-efd9-7cca06b15ac6"
      },
      "outputs": [
        {
          "name": "stdout",
          "output_type": "stream",
          "text": [
            "2\n",
            "+---------------+\n",
            "|perceivedGender|\n",
            "+---------------+\n",
            "|         Female|\n",
            "|           Male|\n",
            "+---------------+\n",
            "\n",
            "None\n"
          ]
        }
      ],
      "source": [
        "genders = ['Female', 'Male']\n",
        "\n",
        "df = df.filter(df.perceivedGender.isin(genders))\n",
        "\n",
        "unique_label_vals = df.select('perceivedGender').distinct().count()\n",
        "print(unique_label_vals)\n",
        "print(df.select('perceivedGender').distinct().show(unique_label_vals))"
      ]
    },
    {
      "cell_type": "markdown",
      "metadata": {
        "id": "N19K0CKGjMqt"
      },
      "source": [
        "##### Return Total Number of Samples in Processed Dataset & Drop Unnecessary Feature"
      ]
    },
    {
      "cell_type": "code",
      "execution_count": null,
      "metadata": {
        "colab": {
          "base_uri": "https://localhost:8080/"
        },
        "id": "65qqg5Z_jMqu",
        "outputId": "aa16f05d-20d2-4342-bcf7-ce9867dafed5"
      },
      "outputs": [
        {
          "data": {
            "text/plain": [
              "1312"
            ]
          },
          "execution_count": 24,
          "metadata": {},
          "output_type": "execute_result"
        }
      ],
      "source": [
        "df = df.drop('perceivedGender')\n",
        "df.count()"
      ]
    },
    {
      "cell_type": "markdown",
      "metadata": {
        "id": "a_amy3lvjMqu"
      },
      "source": [
        "##### Split Dataset into Training & Testing Datasets"
      ]
    },
    {
      "cell_type": "code",
      "execution_count": null,
      "metadata": {
        "id": "_6li_2LIjMqu"
      },
      "outputs": [],
      "source": [
        "train_ds, test_ds = df.randomSplit(weights=[0.80, 0.20], seed=42)"
      ]
    },
    {
      "cell_type": "markdown",
      "metadata": {
        "id": "512oKxdbjMqu"
      },
      "source": [
        "##### Define Pipeline Stages & Pipeline"
      ]
    },
    {
      "cell_type": "code",
      "execution_count": null,
      "metadata": {
        "colab": {
          "base_uri": "https://localhost:8080/"
        },
        "id": "CQ5NPETWjMqu",
        "outputId": "3c4b98fb-f5b3-4fe1-eec8-337c25d6fb35"
      },
      "outputs": [
        {
          "name": "stdout",
          "output_type": "stream",
          "text": [
            "sentence_detector_dl download started this may take some time.\n",
            "Approximate size to download 514.9 KB\n",
            "[OK!]\n",
            "opus_mt_en_es download started this may take some time.\n",
            "Approximate size to download 398.8 MB\n",
            "[OK!]\n"
          ]
        }
      ],
      "source": [
        "doc = DocumentAssembler()\\\n",
        "    .setInputCol(\"sourceText\")\\\n",
        "    .setOutputCol(\"document\")\n",
        "\n",
        "sentence = SentenceDetectorDLModel.pretrained(\"sentence_detector_dl\", \"xx\")\\\n",
        "    .setInputCols([\"document\"])\\\n",
        "    .setOutputCol(\"sentence\")\n",
        "\n",
        "translator = MarianTransformer.pretrained(\"opus_mt_en_es\", \"xx\")\\\n",
        "    .setInputCols([\"sentence\"])\\\n",
        "    .setOutputCol(\"translation\")\n",
        "\n",
        "en_es_translation_pipeline = Pipeline().setStages([doc, sentence, translator])"
      ]
    },
    {
      "cell_type": "markdown",
      "metadata": {
        "id": "KiN10OQVjMqu"
      },
      "source": [
        "##### Fit/Train Model"
      ]
    },
    {
      "cell_type": "code",
      "execution_count": null,
      "metadata": {
        "id": "3crC81wXjMqu"
      },
      "outputs": [],
      "source": [
        "en_es_translation_model = en_es_translation_pipeline.fit(train_ds)"
      ]
    },
    {
      "cell_type": "markdown",
      "metadata": {
        "id": "BA8FEvYvjMqu"
      },
      "source": [
        "##### Inference: Predictions Using Test Dataset"
      ]
    },
    {
      "cell_type": "code",
      "execution_count": null,
      "metadata": {
        "id": "fwy1VJT8jMqu"
      },
      "outputs": [],
      "source": [
        "preds = en_es_translation_model.transform(test_ds)"
      ]
    },
    {
      "cell_type": "markdown",
      "metadata": {
        "id": "IrYZw5uQjMqv"
      },
      "source": [
        "##### Return Only Necessary Features & Convert to Pandas DataFrame"
      ]
    },
    {
      "cell_type": "code",
      "execution_count": null,
      "metadata": {
        "colab": {
          "background_save": true
        },
        "id": "n3zd-KEGjMqv"
      },
      "outputs": [],
      "source": [
        "preds_in_pandas = preds.select(F.col(\"sourceText\").alias(\"source\"), F.col(\"translatedText\").alias(\"ground_truth\"), F.col(\"translation.result\").alias(\"predictions\")).toPandas()"
      ]
    },
    {
      "cell_type": "markdown",
      "metadata": {
        "id": "aRzhvniajMqv"
      },
      "source": [
        "##### Display Condensed Predictions Output"
      ]
    },
    {
      "cell_type": "code",
      "execution_count": null,
      "metadata": {
        "colab": {
          "background_save": true
        },
        "id": "1b4tl19-jMqv",
        "outputId": "6efdfa99-722b-4f3a-8cd2-7322406a851c"
      },
      "outputs": [
        {
          "data": {
            "application/vnd.google.colaboratory.intrinsic+json": {
              "summary": "{\n  \"name\": \"preds_in_pandas\",\n  \"rows\": 226,\n  \"fields\": [\n    {\n      \"column\": \"source\",\n      \"properties\": {\n        \"dtype\": \"string\",\n        \"num_unique_values\": 226,\n        \"samples\": [\n          \"She served as the head of the circulation department for the National Library of Cuba from 1960 to 1961, at which point she left the island for Miami, Florida, as a political refugee.\",\n          \"He holds a Master of Arts (MA) and  a Ph.D (1975), both in economics, from McGill University, where he trained as an econometrician.\",\n          \"Norman is currently an Assistant Principal (Academic Performance), of King\\u2019s College London and Executive Dean of the Florence Nightingale Faculty of Nursing & Midwifery at King\\u2019s.\"\n        ],\n        \"semantic_type\": \"\",\n        \"description\": \"\"\n      }\n    },\n    {\n      \"column\": \"ground_truth\",\n      \"properties\": {\n        \"dtype\": \"string\",\n        \"num_unique_values\": 226,\n        \"samples\": [\n          \"Entre 1960 y 1961, ocup\\u00f3 el cargo del Departamento de Circulaci\\u00f3n de la Biblioteca Nacional de Cuba, momento en el que abandon\\u00f3 la isla y se dirigi\\u00f3 a Miami, Florida, como refugiada pol\\u00edtica.\",\n          \"Complet\\u00f3 una maestr\\u00eda y un doctorado (MA) (1975), ambos en econom\\u00eda, en la Universidad McGill, donde se form\\u00f3 como econometrista.\",\n          \"Actualmente, es subdirector (Desempe\\u00f1o acad\\u00e9mico) del King\\u00b4s College de Londres y decano ejecutivo de la Facultad de Enfermer\\u00eda y Obstetricia Florence Nightingale en King.\"\n        ],\n        \"semantic_type\": \"\",\n        \"description\": \"\"\n      }\n    },\n    {\n      \"column\": \"predictions\",\n      \"properties\": {\n        \"dtype\": \"object\",\n        \"semantic_type\": \"\",\n        \"description\": \"\"\n      }\n    }\n  ]\n}",
              "type": "dataframe",
              "variable_name": "preds_in_pandas"
            },
            "text/html": [
              "\n",
              "  <div id=\"df-87ef1a42-2f69-4452-b866-e15d4aa4145d\" class=\"colab-df-container\">\n",
              "    <div>\n",
              "<style scoped>\n",
              "    .dataframe tbody tr th:only-of-type {\n",
              "        vertical-align: middle;\n",
              "    }\n",
              "\n",
              "    .dataframe tbody tr th {\n",
              "        vertical-align: top;\n",
              "    }\n",
              "\n",
              "    .dataframe thead th {\n",
              "        text-align: right;\n",
              "    }\n",
              "</style>\n",
              "<table border=\"1\" class=\"dataframe\">\n",
              "  <thead>\n",
              "    <tr style=\"text-align: right;\">\n",
              "      <th></th>\n",
              "      <th>source</th>\n",
              "      <th>ground_truth</th>\n",
              "      <th>predictions</th>\n",
              "    </tr>\n",
              "  </thead>\n",
              "  <tbody>\n",
              "    <tr>\n",
              "      <th>0</th>\n",
              "      <td>During the 2008–09 Biathlon World Cup, she has...</td>\n",
              "      <td>Durante la Copa Mundial de Biatlón 2008-2009, ...</td>\n",
              "      <td>[Durante la Copa Mundial de Biatlón 2008-09, h...</td>\n",
              "    </tr>\n",
              "    <tr>\n",
              "      <th>1</th>\n",
              "      <td>Mäkäräinen was originally a cross-country skie...</td>\n",
              "      <td>Mäkäräinen era originalmente esquiadora de cam...</td>\n",
              "      <td>[Mäkäräinen fue originalmente un esquiador de ...</td>\n",
              "    </tr>\n",
              "    <tr>\n",
              "      <th>2</th>\n",
              "      <td>In 2004, she made the Finnish National Team.</td>\n",
              "      <td>En 2004 fue parte del equipo nacional finlandés.</td>\n",
              "      <td>[En 2004, hizo la selección nacional finlandesa.]</td>\n",
              "    </tr>\n",
              "    <tr>\n",
              "      <th>3</th>\n",
              "      <td>His first international successes were with th...</td>\n",
              "      <td>Sus primeros éxitos internacionales fueron con...</td>\n",
              "      <td>[Sus primeros éxitos internacionales fueron co...</td>\n",
              "    </tr>\n",
              "    <tr>\n",
              "      <th>4</th>\n",
              "      <td>Born in Paddington to Nigerian parents who wer...</td>\n",
              "      <td>Nacido en Paddington, de padres nigerianos que...</td>\n",
              "      <td>[Nacido en Paddington de padres nigerianos que...</td>\n",
              "    </tr>\n",
              "    <tr>\n",
              "      <th>...</th>\n",
              "      <td>...</td>\n",
              "      <td>...</td>\n",
              "      <td>...</td>\n",
              "    </tr>\n",
              "    <tr>\n",
              "      <th>221</th>\n",
              "      <td>He was the first African American elected to C...</td>\n",
              "      <td>Fue el primer afroamericano del Norte de Calif...</td>\n",
              "      <td>[Fue el primer afroamericano elegido al Congre...</td>\n",
              "    </tr>\n",
              "    <tr>\n",
              "      <th>222</th>\n",
              "      <td>He participated in the review of the Children,...</td>\n",
              "      <td>Participó en la revisión de la Ley de Niños, J...</td>\n",
              "      <td>[Participó en el examen de la Ley de 1989 sobr...</td>\n",
              "    </tr>\n",
              "    <tr>\n",
              "      <th>223</th>\n",
              "      <td>Pierre Brizon (16 May 1878 – 1 August 1923) wa...</td>\n",
              "      <td>Pierre Brizon (16 de mayo de 1878–1 de agosto ...</td>\n",
              "      <td>[Pierre Brizon (16 de mayo de 1878 - 1 de agos...</td>\n",
              "    </tr>\n",
              "    <tr>\n",
              "      <th>224</th>\n",
              "      <td>In 1907 he was elected a councilor in the dist...</td>\n",
              "      <td>En 1907, fue electo para el cargo de consejero...</td>\n",
              "      <td>[En 1907 fue elegido concejal en el distrito d...</td>\n",
              "    </tr>\n",
              "    <tr>\n",
              "      <th>225</th>\n",
              "      <td>She is also a two-time Council member of the NLA.</td>\n",
              "      <td>También es, por segunda vez, miembro del conse...</td>\n",
              "      <td>[También es miembro del Consejo de la NLA.]</td>\n",
              "    </tr>\n",
              "  </tbody>\n",
              "</table>\n",
              "<p>226 rows × 3 columns</p>\n",
              "</div>\n",
              "    <div class=\"colab-df-buttons\">\n",
              "\n",
              "  <div class=\"colab-df-container\">\n",
              "    <button class=\"colab-df-convert\" onclick=\"convertToInteractive('df-87ef1a42-2f69-4452-b866-e15d4aa4145d')\"\n",
              "            title=\"Convert this dataframe to an interactive table.\"\n",
              "            style=\"display:none;\">\n",
              "\n",
              "  <svg xmlns=\"http://www.w3.org/2000/svg\" height=\"24px\" viewBox=\"0 -960 960 960\">\n",
              "    <path d=\"M120-120v-720h720v720H120Zm60-500h600v-160H180v160Zm220 220h160v-160H400v160Zm0 220h160v-160H400v160ZM180-400h160v-160H180v160Zm440 0h160v-160H620v160ZM180-180h160v-160H180v160Zm440 0h160v-160H620v160Z\"/>\n",
              "  </svg>\n",
              "    </button>\n",
              "\n",
              "  <style>\n",
              "    .colab-df-container {\n",
              "      display:flex;\n",
              "      gap: 12px;\n",
              "    }\n",
              "\n",
              "    .colab-df-convert {\n",
              "      background-color: #E8F0FE;\n",
              "      border: none;\n",
              "      border-radius: 50%;\n",
              "      cursor: pointer;\n",
              "      display: none;\n",
              "      fill: #1967D2;\n",
              "      height: 32px;\n",
              "      padding: 0 0 0 0;\n",
              "      width: 32px;\n",
              "    }\n",
              "\n",
              "    .colab-df-convert:hover {\n",
              "      background-color: #E2EBFA;\n",
              "      box-shadow: 0px 1px 2px rgba(60, 64, 67, 0.3), 0px 1px 3px 1px rgba(60, 64, 67, 0.15);\n",
              "      fill: #174EA6;\n",
              "    }\n",
              "\n",
              "    .colab-df-buttons div {\n",
              "      margin-bottom: 4px;\n",
              "    }\n",
              "\n",
              "    [theme=dark] .colab-df-convert {\n",
              "      background-color: #3B4455;\n",
              "      fill: #D2E3FC;\n",
              "    }\n",
              "\n",
              "    [theme=dark] .colab-df-convert:hover {\n",
              "      background-color: #434B5C;\n",
              "      box-shadow: 0px 1px 3px 1px rgba(0, 0, 0, 0.15);\n",
              "      filter: drop-shadow(0px 1px 2px rgba(0, 0, 0, 0.3));\n",
              "      fill: #FFFFFF;\n",
              "    }\n",
              "  </style>\n",
              "\n",
              "    <script>\n",
              "      const buttonEl =\n",
              "        document.querySelector('#df-87ef1a42-2f69-4452-b866-e15d4aa4145d button.colab-df-convert');\n",
              "      buttonEl.style.display =\n",
              "        google.colab.kernel.accessAllowed ? 'block' : 'none';\n",
              "\n",
              "      async function convertToInteractive(key) {\n",
              "        const element = document.querySelector('#df-87ef1a42-2f69-4452-b866-e15d4aa4145d');\n",
              "        const dataTable =\n",
              "          await google.colab.kernel.invokeFunction('convertToInteractive',\n",
              "                                                    [key], {});\n",
              "        if (!dataTable) return;\n",
              "\n",
              "        const docLinkHtml = 'Like what you see? Visit the ' +\n",
              "          '<a target=\"_blank\" href=https://colab.research.google.com/notebooks/data_table.ipynb>data table notebook</a>'\n",
              "          + ' to learn more about interactive tables.';\n",
              "        element.innerHTML = '';\n",
              "        dataTable['output_type'] = 'display_data';\n",
              "        await google.colab.output.renderOutput(dataTable, element);\n",
              "        const docLink = document.createElement('div');\n",
              "        docLink.innerHTML = docLinkHtml;\n",
              "        element.appendChild(docLink);\n",
              "      }\n",
              "    </script>\n",
              "  </div>\n",
              "\n",
              "\n",
              "<div id=\"df-bc37be48-2739-4cd1-ac09-f83c1a070427\">\n",
              "  <button class=\"colab-df-quickchart\" onclick=\"quickchart('df-bc37be48-2739-4cd1-ac09-f83c1a070427')\"\n",
              "            title=\"Suggest charts\"\n",
              "            style=\"display:none;\">\n",
              "\n",
              "<svg xmlns=\"http://www.w3.org/2000/svg\" height=\"24px\"viewBox=\"0 0 24 24\"\n",
              "     width=\"24px\">\n",
              "    <g>\n",
              "        <path d=\"M19 3H5c-1.1 0-2 .9-2 2v14c0 1.1.9 2 2 2h14c1.1 0 2-.9 2-2V5c0-1.1-.9-2-2-2zM9 17H7v-7h2v7zm4 0h-2V7h2v10zm4 0h-2v-4h2v4z\"/>\n",
              "    </g>\n",
              "</svg>\n",
              "  </button>\n",
              "\n",
              "<style>\n",
              "  .colab-df-quickchart {\n",
              "      --bg-color: #E8F0FE;\n",
              "      --fill-color: #1967D2;\n",
              "      --hover-bg-color: #E2EBFA;\n",
              "      --hover-fill-color: #174EA6;\n",
              "      --disabled-fill-color: #AAA;\n",
              "      --disabled-bg-color: #DDD;\n",
              "  }\n",
              "\n",
              "  [theme=dark] .colab-df-quickchart {\n",
              "      --bg-color: #3B4455;\n",
              "      --fill-color: #D2E3FC;\n",
              "      --hover-bg-color: #434B5C;\n",
              "      --hover-fill-color: #FFFFFF;\n",
              "      --disabled-bg-color: #3B4455;\n",
              "      --disabled-fill-color: #666;\n",
              "  }\n",
              "\n",
              "  .colab-df-quickchart {\n",
              "    background-color: var(--bg-color);\n",
              "    border: none;\n",
              "    border-radius: 50%;\n",
              "    cursor: pointer;\n",
              "    display: none;\n",
              "    fill: var(--fill-color);\n",
              "    height: 32px;\n",
              "    padding: 0;\n",
              "    width: 32px;\n",
              "  }\n",
              "\n",
              "  .colab-df-quickchart:hover {\n",
              "    background-color: var(--hover-bg-color);\n",
              "    box-shadow: 0 1px 2px rgba(60, 64, 67, 0.3), 0 1px 3px 1px rgba(60, 64, 67, 0.15);\n",
              "    fill: var(--button-hover-fill-color);\n",
              "  }\n",
              "\n",
              "  .colab-df-quickchart-complete:disabled,\n",
              "  .colab-df-quickchart-complete:disabled:hover {\n",
              "    background-color: var(--disabled-bg-color);\n",
              "    fill: var(--disabled-fill-color);\n",
              "    box-shadow: none;\n",
              "  }\n",
              "\n",
              "  .colab-df-spinner {\n",
              "    border: 2px solid var(--fill-color);\n",
              "    border-color: transparent;\n",
              "    border-bottom-color: var(--fill-color);\n",
              "    animation:\n",
              "      spin 1s steps(1) infinite;\n",
              "  }\n",
              "\n",
              "  @keyframes spin {\n",
              "    0% {\n",
              "      border-color: transparent;\n",
              "      border-bottom-color: var(--fill-color);\n",
              "      border-left-color: var(--fill-color);\n",
              "    }\n",
              "    20% {\n",
              "      border-color: transparent;\n",
              "      border-left-color: var(--fill-color);\n",
              "      border-top-color: var(--fill-color);\n",
              "    }\n",
              "    30% {\n",
              "      border-color: transparent;\n",
              "      border-left-color: var(--fill-color);\n",
              "      border-top-color: var(--fill-color);\n",
              "      border-right-color: var(--fill-color);\n",
              "    }\n",
              "    40% {\n",
              "      border-color: transparent;\n",
              "      border-right-color: var(--fill-color);\n",
              "      border-top-color: var(--fill-color);\n",
              "    }\n",
              "    60% {\n",
              "      border-color: transparent;\n",
              "      border-right-color: var(--fill-color);\n",
              "    }\n",
              "    80% {\n",
              "      border-color: transparent;\n",
              "      border-right-color: var(--fill-color);\n",
              "      border-bottom-color: var(--fill-color);\n",
              "    }\n",
              "    90% {\n",
              "      border-color: transparent;\n",
              "      border-bottom-color: var(--fill-color);\n",
              "    }\n",
              "  }\n",
              "</style>\n",
              "\n",
              "  <script>\n",
              "    async function quickchart(key) {\n",
              "      const quickchartButtonEl =\n",
              "        document.querySelector('#' + key + ' button');\n",
              "      quickchartButtonEl.disabled = true;  // To prevent multiple clicks.\n",
              "      quickchartButtonEl.classList.add('colab-df-spinner');\n",
              "      try {\n",
              "        const charts = await google.colab.kernel.invokeFunction(\n",
              "            'suggestCharts', [key], {});\n",
              "      } catch (error) {\n",
              "        console.error('Error during call to suggestCharts:', error);\n",
              "      }\n",
              "      quickchartButtonEl.classList.remove('colab-df-spinner');\n",
              "      quickchartButtonEl.classList.add('colab-df-quickchart-complete');\n",
              "    }\n",
              "    (() => {\n",
              "      let quickchartButtonEl =\n",
              "        document.querySelector('#df-bc37be48-2739-4cd1-ac09-f83c1a070427 button');\n",
              "      quickchartButtonEl.style.display =\n",
              "        google.colab.kernel.accessAllowed ? 'block' : 'none';\n",
              "    })();\n",
              "  </script>\n",
              "</div>\n",
              "\n",
              "  <div id=\"id_158eeb14-1073-407c-b09f-e1587110cbaf\">\n",
              "    <style>\n",
              "      .colab-df-generate {\n",
              "        background-color: #E8F0FE;\n",
              "        border: none;\n",
              "        border-radius: 50%;\n",
              "        cursor: pointer;\n",
              "        display: none;\n",
              "        fill: #1967D2;\n",
              "        height: 32px;\n",
              "        padding: 0 0 0 0;\n",
              "        width: 32px;\n",
              "      }\n",
              "\n",
              "      .colab-df-generate:hover {\n",
              "        background-color: #E2EBFA;\n",
              "        box-shadow: 0px 1px 2px rgba(60, 64, 67, 0.3), 0px 1px 3px 1px rgba(60, 64, 67, 0.15);\n",
              "        fill: #174EA6;\n",
              "      }\n",
              "\n",
              "      [theme=dark] .colab-df-generate {\n",
              "        background-color: #3B4455;\n",
              "        fill: #D2E3FC;\n",
              "      }\n",
              "\n",
              "      [theme=dark] .colab-df-generate:hover {\n",
              "        background-color: #434B5C;\n",
              "        box-shadow: 0px 1px 3px 1px rgba(0, 0, 0, 0.15);\n",
              "        filter: drop-shadow(0px 1px 2px rgba(0, 0, 0, 0.3));\n",
              "        fill: #FFFFFF;\n",
              "      }\n",
              "    </style>\n",
              "    <button class=\"colab-df-generate\" onclick=\"generateWithVariable('preds_in_pandas')\"\n",
              "            title=\"Generate code using this dataframe.\"\n",
              "            style=\"display:none;\">\n",
              "\n",
              "  <svg xmlns=\"http://www.w3.org/2000/svg\" height=\"24px\"viewBox=\"0 0 24 24\"\n",
              "       width=\"24px\">\n",
              "    <path d=\"M7,19H8.4L18.45,9,17,7.55,7,17.6ZM5,21V16.75L18.45,3.32a2,2,0,0,1,2.83,0l1.4,1.43a1.91,1.91,0,0,1,.58,1.4,1.91,1.91,0,0,1-.58,1.4L9.25,21ZM18.45,9,17,7.55Zm-12,3A5.31,5.31,0,0,0,4.9,8.1,5.31,5.31,0,0,0,1,6.5,5.31,5.31,0,0,0,4.9,4.9,5.31,5.31,0,0,0,6.5,1,5.31,5.31,0,0,0,8.1,4.9,5.31,5.31,0,0,0,12,6.5,5.46,5.46,0,0,0,6.5,12Z\"/>\n",
              "  </svg>\n",
              "    </button>\n",
              "    <script>\n",
              "      (() => {\n",
              "      const buttonEl =\n",
              "        document.querySelector('#id_158eeb14-1073-407c-b09f-e1587110cbaf button.colab-df-generate');\n",
              "      buttonEl.style.display =\n",
              "        google.colab.kernel.accessAllowed ? 'block' : 'none';\n",
              "\n",
              "      buttonEl.onclick = () => {\n",
              "        google.colab.notebook.generateWithVariable('preds_in_pandas');\n",
              "      }\n",
              "      })();\n",
              "    </script>\n",
              "  </div>\n",
              "\n",
              "    </div>\n",
              "  </div>\n"
            ],
            "text/plain": [
              "                                                source  \\\n",
              "0    During the 2008–09 Biathlon World Cup, she has...   \n",
              "1    Mäkäräinen was originally a cross-country skie...   \n",
              "2         In 2004, she made the Finnish National Team.   \n",
              "3    His first international successes were with th...   \n",
              "4    Born in Paddington to Nigerian parents who wer...   \n",
              "..                                                 ...   \n",
              "221  He was the first African American elected to C...   \n",
              "222  He participated in the review of the Children,...   \n",
              "223  Pierre Brizon (16 May 1878 – 1 August 1923) wa...   \n",
              "224  In 1907 he was elected a councilor in the dist...   \n",
              "225  She is also a two-time Council member of the NLA.   \n",
              "\n",
              "                                          ground_truth  \\\n",
              "0    Durante la Copa Mundial de Biatlón 2008-2009, ...   \n",
              "1    Mäkäräinen era originalmente esquiadora de cam...   \n",
              "2     En 2004 fue parte del equipo nacional finlandés.   \n",
              "3    Sus primeros éxitos internacionales fueron con...   \n",
              "4    Nacido en Paddington, de padres nigerianos que...   \n",
              "..                                                 ...   \n",
              "221  Fue el primer afroamericano del Norte de Calif...   \n",
              "222  Participó en la revisión de la Ley de Niños, J...   \n",
              "223  Pierre Brizon (16 de mayo de 1878–1 de agosto ...   \n",
              "224  En 1907, fue electo para el cargo de consejero...   \n",
              "225  También es, por segunda vez, miembro del conse...   \n",
              "\n",
              "                                           predictions  \n",
              "0    [Durante la Copa Mundial de Biatlón 2008-09, h...  \n",
              "1    [Mäkäräinen fue originalmente un esquiador de ...  \n",
              "2    [En 2004, hizo la selección nacional finlandesa.]  \n",
              "3    [Sus primeros éxitos internacionales fueron co...  \n",
              "4    [Nacido en Paddington de padres nigerianos que...  \n",
              "..                                                 ...  \n",
              "221  [Fue el primer afroamericano elegido al Congre...  \n",
              "222  [Participó en el examen de la Ley de 1989 sobr...  \n",
              "223  [Pierre Brizon (16 de mayo de 1878 - 1 de agos...  \n",
              "224  [En 1907 fue elegido concejal en el distrito d...  \n",
              "225        [También es miembro del Consejo de la NLA.]  \n",
              "\n",
              "[226 rows x 3 columns]"
            ]
          },
          "metadata": {},
          "output_type": "display_data"
        }
      ],
      "source": [
        "display(preds_in_pandas)"
      ]
    },
    {
      "cell_type": "markdown",
      "metadata": {
        "id": "qj1VGqr1jMqv"
      },
      "source": [
        "##### Save Model"
      ]
    },
    {
      "cell_type": "code",
      "source": [
        "OUTPUT_DIR = '/content/model'"
      ],
      "metadata": {
        "id": "ec48-gR01E2O"
      },
      "execution_count": 34,
      "outputs": []
    },
    {
      "cell_type": "code",
      "execution_count": 35,
      "metadata": {
        "id": "VAP7moN6jMqv"
      },
      "outputs": [],
      "source": [
        "en_es_translation_model.save(r\"/content/model\")"
      ]
    }
  ],
  "metadata": {
    "application/vnd.databricks.v1+notebook": {
      "dashboards": [],
      "language": "python",
      "notebookMetadata": {
        "pythonIndentUnit": 4
      },
      "notebookName": "Machine Translation - Wikipedia Biographies - English to Spanish",
      "notebookOrigID": 268055434428714,
      "widgets": {}
    },
    "colab": {
      "provenance": [],
      "include_colab_link": true
    },
    "kernelspec": {
      "display_name": "Python 3",
      "name": "python3"
    },
    "language_info": {
      "name": "python"
    }
  },
  "nbformat": 4,
  "nbformat_minor": 0
}